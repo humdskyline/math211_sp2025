{
 "cells": [
  {
   "cell_type": "markdown",
   "id": "c457b692",
   "metadata": {},
   "source": [
    "### <a href=\"http://www.data8.org/sp20/python-reference.html\"> Python Reference Link <a>\n",
    "\n",
    "Run the cell below so that we can set our modules up\n"
   ]
  },
  {
   "cell_type": "code",
   "execution_count": null,
   "id": "f95586cb",
   "metadata": {},
   "outputs": [],
   "source": [
    "import numpy as np\n",
    "from datascience import *\n",
    "import math"
   ]
  },
  {
   "cell_type": "markdown",
   "id": "9e34a145",
   "metadata": {},
   "source": [
    "### I have written the function wear_tomorrow for you.  Try different forecasts tomorrow to see how it works."
   ]
  },
  {
   "cell_type": "code",
   "execution_count": null,
   "id": "488ac337",
   "metadata": {},
   "outputs": [],
   "source": [
    "def wear_tomorrow(weather):\n",
    "    tomorrows_outfit = \"\"\n",
    "    if (weather == \"hot\"):\n",
    "        tomorrows_outfit = \"light t-shirt and shorts\"\n",
    "    elif (weather == \"cold\"):\n",
    "        tomorrows_outfit = \"sweater and jeans\"\n",
    "    elif (weather == \"rainy\"):\n",
    "        tomorrows_outfit = \"raincoat and boots\"\n",
    "    elif (weather == \"foggy\"):\n",
    "        tomorrows_outfit = \"warm layers\"\n",
    "    else:\n",
    "        tomorrows_outfit = \"something comfy\"\n",
    "    print(\"Tomorrow's outfit should be \" + tomorrows_outfit)"
   ]
  },
  {
   "cell_type": "code",
   "execution_count": null,
   "id": "fc555ccb",
   "metadata": {},
   "outputs": [],
   "source": [
    "wear_tomorrow(...)\n",
    "wear_tomorrow(...)\n",
    "wear_tomorrow(...)"
   ]
  },
  {
   "cell_type": "markdown",
   "id": "49b49a2c",
   "metadata": {},
   "source": [
    "### Try coding your group's <a href=\"https://docs.google.com/document/d/1OW60SPwY-eKs2hZapJgCYC2lAqEXUsH9W1qUbu7mn7g/edit?usp=sharingl\"> Conditional Statement Problem <a>\n",
    "    \n",
    "Be sure to test your function after by calling your function a few more times with different inputs"
   ]
  },
  {
   "cell_type": "markdown",
   "id": "5f212152",
   "metadata": {},
   "source": [
    "### EBay fabric problem"
   ]
  },
  {
   "cell_type": "code",
   "execution_count": null,
   "id": "12db3501",
   "metadata": {},
   "outputs": [],
   "source": [
    "def fabric_cost(num_yards):\n",
    "    total_cost = ...\n",
    "    \n",
    "    \n",
    "    \n",
    "    \n",
    "    \n",
    "    \n",
    "    \n",
    "    return total_cost"
   ]
  },
  {
   "cell_type": "code",
   "execution_count": null,
   "id": "11a6dbbd",
   "metadata": {},
   "outputs": [],
   "source": [
    "the_cost = fabric_cost(5)\n",
    "print(\"The cost to buy 5 yards of fabric is \" + str(the_cost))"
   ]
  },
  {
   "cell_type": "markdown",
   "id": "c2207bbc",
   "metadata": {},
   "source": [
    "### Hoodie problem"
   ]
  },
  {
   "cell_type": "code",
   "execution_count": null,
   "id": "ece41a7a",
   "metadata": {},
   "outputs": [],
   "source": [
    "def hoodies_cost(num_hoodies):\n",
    "    total_cost = ,,,\n",
    "    \n",
    "    \n",
    "    \n",
    "    \n",
    "    \n",
    "    return total_cost"
   ]
  },
  {
   "cell_type": "code",
   "execution_count": null,
   "id": "47878730",
   "metadata": {},
   "outputs": [],
   "source": [
    "the_cost = hoodies_cost(5)\n",
    "print(\"The cost to buy 5 hoodies is \" + str(the_cost))"
   ]
  },
  {
   "cell_type": "markdown",
   "id": "30c57127",
   "metadata": {},
   "source": [
    "### Course Grade problem"
   ]
  },
  {
   "cell_type": "code",
   "execution_count": null,
   "id": "b7d1ecd7",
   "metadata": {},
   "outputs": [],
   "source": [
    "def final_grade(course_avg):\n",
    "    final_grade = ...\n",
    "    \n",
    "    \n",
    "    \n",
    "    return final_grade"
   ]
  },
  {
   "cell_type": "code",
   "execution_count": null,
   "id": "fd5fbb78",
   "metadata": {},
   "outputs": [],
   "source": [
    "the_letter_grade = final_grade(83)\n",
    "print(\"The course grade of someone who averaged 83% is \" + the_letter_grade)"
   ]
  },
  {
   "cell_type": "markdown",
   "id": "0669cfa5",
   "metadata": {},
   "source": [
    "## Let's look at for loops"
   ]
  },
  {
   "cell_type": "code",
   "execution_count": null,
   "id": "ac9d3bc5",
   "metadata": {},
   "outputs": [],
   "source": [
    "animals = make_array(\"cat\", \"dog\", \"rabbit\", \"bird\")\n",
    "\n",
    "for an_animal in animals :\n",
    "    print(\"I love my \" + an_animal)"
   ]
  },
  {
   "cell_type": "markdown",
   "id": "2974e2c3",
   "metadata": {},
   "source": [
    "### Let's revisit the first day survey\n",
    "Run the cell below to load the data"
   ]
  },
  {
   "cell_type": "code",
   "execution_count": null,
   "id": "6e7ca006",
   "metadata": {},
   "outputs": [],
   "source": [
    "link = \"https://raw.githubusercontent.com/humdskyline/data/main/first_class_survey_s2025.csv\"\n",
    "first_survey = Table.read_table(link)\n",
    "first_survey.show(5)"
   ]
  },
  {
   "cell_type": "markdown",
   "id": "17a3cf10",
   "metadata": {},
   "source": [
    "### Now complete the code to count the number of large households that have more than 2 people.\n",
    "You will need to use both a for loop and an if statement"
   ]
  },
  {
   "cell_type": "code",
   "execution_count": null,
   "id": "ea3e21e3",
   "metadata": {},
   "outputs": [],
   "source": [
    "num_households = first_survey.column(\"Household Count\")\n",
    "num_households\n",
    "\n",
    "#initialize the large household counter (households with more than 2 people) to 0\n",
    "big_hh_count = 0\n",
    "for ...\n",
    "    if ():\n",
    "        \n",
    "        \n",
    "        \n",
    "        \n",
    "print(\"There are \" + str(big_hh_count) + \" students that live in households with more than two people.\")"
   ]
  },
  {
   "cell_type": "code",
   "execution_count": null,
   "id": "aa43d3b3",
   "metadata": {},
   "outputs": [],
   "source": []
  }
 ],
 "metadata": {
  "kernelspec": {
   "display_name": "Python 3 (ipykernel)",
   "language": "python",
   "name": "python3"
  },
  "language_info": {
   "codemirror_mode": {
    "name": "ipython",
    "version": 3
   },
   "file_extension": ".py",
   "mimetype": "text/x-python",
   "name": "python",
   "nbconvert_exporter": "python",
   "pygments_lexer": "ipython3",
   "version": "3.10.11"
  }
 },
 "nbformat": 4,
 "nbformat_minor": 5
}
