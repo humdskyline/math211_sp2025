{
 "cells": [
  {
   "cell_type": "code",
   "execution_count": null,
   "id": "3904852d",
   "metadata": {},
   "outputs": [],
   "source": [
    "\n",
    "import numpy as np\n",
    "from datascience import *\n",
    "import math\n",
    "import scipy.stats as st\n",
    "\n",
    "# These lines do some fancy plotting magic\n",
    "import matplotlib\n",
    "%matplotlib inline\n",
    "import matplotlib.pyplot as plt\n",
    "plt.style.use('fivethirtyeight')\n",
    "import warnings\n",
    "warnings.simplefilter('ignore', FutureWarning)\n",
    "from matplotlib import patches\n",
    "from ipywidgets import interact, interactive, fixed\n",
    "import ipywidgets as widgets"
   ]
  },
  {
   "cell_type": "markdown",
   "id": "d843ca93",
   "metadata": {},
   "source": [
    "## I took the last 5 digits of everyone's GNumbers and put it into an array"
   ]
  },
  {
   "cell_type": "code",
   "execution_count": null,
   "id": "6505dc3e",
   "metadata": {},
   "outputs": [],
   "source": [
    "gnum_arr = make_array(0,0,0,0,0,0,0,1,1,1,1,1,1,1,2,2,2,3,3,3,3,3,3,3,3,3,3,4,4,4,4,5,5,5,5,5,5,5,5,5,6,6,6,6,6,6,6,6,7,7,7,7,7,7,7,8,8,8,8,8,8,9,9,9,9,9,9,9,9,9)\n",
    "gnum_tab = Table().with_columns(\"GNumbers\", gnum_arr)\n",
    "gnum_tab\n"
   ]
  },
  {
   "cell_type": "markdown",
   "id": "b6f40d56",
   "metadata": {},
   "source": [
    "### Let's make a histogram to see what the shape of the distribution looks like"
   ]
  },
  {
   "cell_type": "code",
   "execution_count": null,
   "id": "9cd2d74f",
   "metadata": {},
   "outputs": [],
   "source": [
    "#gnum_tab.hist(bins= np.arange(10))\n",
    "gnum_tab.hist(0, bins= np.arange(10))\n",
    "plt.scatter(round(np.mean(gnum_arr), 2), 0, color='red', s=100, zorder=2);"
   ]
  },
  {
   "cell_type": "markdown",
   "id": "f9298279",
   "metadata": {},
   "source": [
    "### How would you describe the shape of this distribution?"
   ]
  },
  {
   "cell_type": "markdown",
   "id": "f059b17a",
   "metadata": {},
   "source": []
  },
  {
   "cell_type": "markdown",
   "id": "f60a1dab",
   "metadata": {},
   "source": [
    "### Let's find the population parameters -- mean and standard deviation"
   ]
  },
  {
   "cell_type": "code",
   "execution_count": null,
   "id": "fd0b3486",
   "metadata": {},
   "outputs": [],
   "source": [
    "pop_mean = round(np.mean(gnum_arr), 2)\n",
    "pop_std = round(np.std(gnum_arr),2)\n",
    "length = len(gnum_arr)\n",
    "print(\"The population mean is \" + str(pop_mean) + \" and the population standard deviation is \" + \n",
    "      str(pop_std) + \" for the \" + str(length) + \" digits.\")"
   ]
  },
  {
   "cell_type": "markdown",
   "id": "fd819b18",
   "metadata": {},
   "source": [
    "### Let's start sampling!\n",
    "Start with a simulation consisting of 15 samples of size 10.\n",
    "Run the cell several times to see how the shape of the distribution changes\n",
    "\n",
    "When looking at the histogram, what do you notice...\n",
    "- about the shape?\n",
    "- about the mean (visually, the balancing point)?\n",
    "- about the standard deviation (spread)?"
   ]
  },
  {
   "cell_type": "code",
   "execution_count": null,
   "id": "1bf96e43",
   "metadata": {},
   "outputs": [],
   "source": [
    "num_simulations = ...\n",
    "sample_size = ...\n",
    "\n",
    "sample_means = make_array()\n",
    "\n",
    "for sim in np.arange(num_simulations):\n",
    "    sample = np.random.choice(gnum_arr, sample_size, replace = False)\n",
    "    sample_mean = np.mean(sample)\n",
    "    sample_means = np.append(sample_means, sample_mean)\n",
    "\n",
    "samp_means_tab = Table().with_columns(\"Sample Means\", sample_means)\n",
    "\n",
    "samp_means_tab.hist(0, bins= np.arange(10))"
   ]
  },
  {
   "cell_type": "markdown",
   "id": "88db4dff",
   "metadata": {},
   "source": [
    "Try increasing the sample size first, run a few times to look at the histogram, \n",
    "  then change the number of simulations, and run again a few times to look at the histograms.\n",
    "  \n",
    "Do this a number of times"
   ]
  },
  {
   "cell_type": "code",
   "execution_count": null,
   "id": "5ea682f8",
   "metadata": {},
   "outputs": [],
   "source": []
  },
  {
   "cell_type": "markdown",
   "id": "4756b931",
   "metadata": {},
   "source": [
    "## You just watched the Central Limit Theorem in action!"
   ]
  },
  {
   "cell_type": "markdown",
   "id": "3a115733",
   "metadata": {},
   "source": [
    "# Moving onto estimation\n"
   ]
  },
  {
   "cell_type": "markdown",
   "id": "85392868",
   "metadata": {},
   "source": [
    "## Let's count skittles\n",
    "\n",
    "We want to estimate the proportion of grape (purple) Sour Skittles.  Complete the following code by entering the number of purples you have an the sample size"
   ]
  },
  {
   "cell_type": "code",
   "execution_count": null,
   "id": "258ddd8d",
   "metadata": {},
   "outputs": [],
   "source": [
    "purple_count = ...\n",
    "sample_size = ...\n",
    "\n",
    "#sample proportion\n",
    "p_hat = purple_count / sample_size\n",
    "\n",
    "#standard error (sample standard deviation)\n",
    "se = np.sqrt((p_hat * (1 - p_hat))/sample_size)\n",
    "\n",
    "print(\"The sample proportion is \" + str(round(p_hat, 4)) + \" and the standard error is \" + str(round(se, 4)))"
   ]
  },
  {
   "cell_type": "markdown",
   "id": "6b7c46f7",
   "metadata": {},
   "source": [
    "A function to find confidence intervals"
   ]
  },
  {
   "cell_type": "code",
   "execution_count": null,
   "id": "9890dfa2",
   "metadata": {},
   "outputs": [],
   "source": [
    "def confidence_interval(confidence_level_as_dec, sample_stat, std_error) :\n",
    "    alpha = 1 - confidence_level_as_dec\n",
    "    z_critical = st.norm.ppf(1 - alpha/2) \n",
    "    \n",
    "    #find the lower bound\n",
    "    lb = p_hat - z_critical * se\n",
    "    lb_pct = round(lb * 100, 2)\n",
    "    \n",
    "    #find the upper_bound\n",
    "    ub = p_hat + z_critical * se\n",
    "    ub_pct = round(ub * 100, 2)\n",
    "    \n",
    "    c_level_pct = int(confidence_level_as_dec * 100)\n",
    "    print(\"We are \" + str(c_level_pct) + \"% confident that the interval from \" + str(lb_pct) + \"% to \"\n",
    "         + str(ub_pct) + \"% contains the true percentage of purple Sour Skittles\")\n",
    "\n",
    "    "
   ]
  },
  {
   "cell_type": "markdown",
   "id": "c8003d66",
   "metadata": {},
   "source": [
    "## Okay, find some confidence intervals\n",
    "\n",
    "change the c_level_dec variable to the confidence level.  It should be a decimal.  So 95% should be c_level_dec = .95\n"
   ]
  },
  {
   "cell_type": "code",
   "execution_count": null,
   "id": "4400737e",
   "metadata": {},
   "outputs": [],
   "source": [
    "c_level_dec = ...  \n",
    "\n",
    "confidence_interval(c_level_dec, p_hat, se)"
   ]
  },
  {
   "cell_type": "markdown",
   "id": "c87a48f4",
   "metadata": {},
   "source": [
    "## Now that we have the entire class' data, we can use a much larger sample to estimate the true proportion of grape Sour Skittles.\n",
    "\n",
    "Notice what happens to the width of the confidence interval when we increase the sample size"
   ]
  },
  {
   "cell_type": "code",
   "execution_count": null,
   "id": "83a87cd9",
   "metadata": {},
   "outputs": [],
   "source": [
    "class_purple = ...\n",
    "class_sample_size = ...\n",
    "\n",
    "\n",
    "#sample proportion\n",
    "class_p_hat = class_purple / class_sample_size\n",
    "\n",
    "#standard error (sample standard deviation)\n",
    "class_se = np.sqrt((class_p_hat * (1 - class_p_hat)) / class_sample_size)\n",
    "\n",
    "print(\"The sample proportion is \" + str(round(class_p_hat, 4)) + \" and the standard error is \" + \n",
    "      str(round(class_se, 4)))\n",
    "\n",
    "confidence_interval(.95, class_p_hat, class_se)"
   ]
  },
  {
   "cell_type": "code",
   "execution_count": null,
   "id": "ad4f5334",
   "metadata": {},
   "outputs": [],
   "source": []
  }
 ],
 "metadata": {
  "kernelspec": {
   "display_name": "Python 3 (ipykernel)",
   "language": "python",
   "name": "python3"
  },
  "language_info": {
   "codemirror_mode": {
    "name": "ipython",
    "version": 3
   },
   "file_extension": ".py",
   "mimetype": "text/x-python",
   "name": "python",
   "nbconvert_exporter": "python",
   "pygments_lexer": "ipython3",
   "version": "3.10.11"
  }
 },
 "nbformat": 4,
 "nbformat_minor": 5
}
