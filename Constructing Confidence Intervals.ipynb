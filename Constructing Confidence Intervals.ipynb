{
 "cells": [
  {
   "cell_type": "markdown",
   "id": "ec9959b5",
   "metadata": {},
   "source": [
    "# [Python Reference Link](http://www.data8.org/sp20/python-reference.html)\n",
    "*Run the cell below so that we can set our modules up*"
   ]
  },
  {
   "cell_type": "code",
   "execution_count": 2,
   "id": "bc35b0b0",
   "metadata": {},
   "outputs": [],
   "source": [
    "import numpy as np\n",
    "from datascience import *\n",
    "\n",
    "# These lines do some fancy plotting magic.\n",
    "import matplotlib\n",
    "%matplotlib inline\n",
    "import matplotlib.pyplot as plt\n",
    "plt.style.use('fivethirtyeight')\n",
    "import warnings\n",
    "warnings.simplefilter('ignore', FutureWarning)"
   ]
  },
  {
   "cell_type": "markdown",
   "id": "4275d98a",
   "metadata": {},
   "source": [
    "# Exploring the percentile function"
   ]
  },
  {
   "cell_type": "code",
   "execution_count": 3,
   "id": "86cd4725",
   "metadata": {},
   "outputs": [
    {
     "data": {
      "text/plain": [
       "array([   1,    2,    3,    4,    5,    6,    7,    8,    9,   10,   11,\n",
       "         12,   13,   14,   15,   16,   17,   18,   19,   20,   21,   22,\n",
       "         23,   24,   25,   26,   27,   28,   29,   30,   31,   32,   33,\n",
       "         34,   35,   36,   37,   38,   39,   40,   41,   42,   43,   44,\n",
       "         45,   46,   47,   48,   49,   50,   51,   52,   53,   54,   55,\n",
       "         56,   57,   58,   59,   60,   61,   62,   63,   64,   65,   66,\n",
       "         67,   68,   69,   70,   71,   72,   73,   74,   75,   76,   77,\n",
       "         78,   79,   80,   81,   82,   83,   84,   85,   86,   87,   88,\n",
       "         89,   90,   91,   92,   93,   94,   95,   96,   97,   98,   99,\n",
       "        100,  101,  102,  103,  104,  105,  106,  107,  108,  109,  110,\n",
       "        111,  112,  113,  114,  115,  116,  117,  118,  119,  120,  121,\n",
       "        122,  123,  124,  125,  126,  127,  128,  129,  130,  131,  132,\n",
       "        133,  134,  135,  136,  137,  138,  139,  140,  141,  142,  143,\n",
       "        144,  145,  146,  147,  148,  149,  150,  151,  152,  153,  154,\n",
       "        155,  156,  157,  158,  159,  160,  161,  162,  163,  164,  165,\n",
       "        166,  167,  168,  169,  170,  171,  172,  173,  174,  175,  176,\n",
       "        177,  178,  179,  180,  181,  182,  183,  184,  185,  186,  187,\n",
       "        188,  189,  190,  191,  192,  193,  194,  195,  196,  197,  198,\n",
       "        199,  200,  201,  202,  203,  204,  205,  206,  207,  208,  209,\n",
       "        210,  211,  212,  213,  214,  215,  216,  217,  218,  219,  220,\n",
       "        221,  222,  223,  224,  225,  226,  227,  228,  229,  230,  231,\n",
       "        232,  233,  234,  235,  236,  237,  238,  239,  240,  241,  242,\n",
       "        243,  244,  245,  246,  247,  248,  249,  250,  251,  252,  253,\n",
       "        254,  255,  256,  257,  258,  259,  260,  261,  262,  263,  264,\n",
       "        265,  266,  267,  268,  269,  270,  271,  272,  273,  274,  275,\n",
       "        276,  277,  278,  279,  280,  281,  282,  283,  284,  285,  286,\n",
       "        287,  288,  289,  290,  291,  292,  293,  294,  295,  296,  297,\n",
       "        298,  299,  300,  301,  302,  303,  304,  305,  306,  307,  308,\n",
       "        309,  310,  311,  312,  313,  314,  315,  316,  317,  318,  319,\n",
       "        320,  321,  322,  323,  324,  325,  326,  327,  328,  329,  330,\n",
       "        331,  332,  333,  334,  335,  336,  337,  338,  339,  340,  341,\n",
       "        342,  343,  344,  345,  346,  347,  348,  349,  350,  351,  352,\n",
       "        353,  354,  355,  356,  357,  358,  359,  360,  361,  362,  363,\n",
       "        364,  365,  366,  367,  368,  369,  370,  371,  372,  373,  374,\n",
       "        375,  376,  377,  378,  379,  380,  381,  382,  383,  384,  385,\n",
       "        386,  387,  388,  389,  390,  391,  392,  393,  394,  395,  396,\n",
       "        397,  398,  399,  400,  401,  402,  403,  404,  405,  406,  407,\n",
       "        408,  409,  410,  411,  412,  413,  414,  415,  416,  417,  418,\n",
       "        419,  420,  421,  422,  423,  424,  425,  426,  427,  428,  429,\n",
       "        430,  431,  432,  433,  434,  435,  436,  437,  438,  439,  440,\n",
       "        441,  442,  443,  444,  445,  446,  447,  448,  449,  450,  451,\n",
       "        452,  453,  454,  455,  456,  457,  458,  459,  460,  461,  462,\n",
       "        463,  464,  465,  466,  467,  468,  469,  470,  471,  472,  473,\n",
       "        474,  475,  476,  477,  478,  479,  480,  481,  482,  483,  484,\n",
       "        485,  486,  487,  488,  489,  490,  491,  492,  493,  494,  495,\n",
       "        496,  497,  498,  499,  500,  501,  502,  503,  504,  505,  506,\n",
       "        507,  508,  509,  510,  511,  512,  513,  514,  515,  516,  517,\n",
       "        518,  519,  520,  521,  522,  523,  524,  525,  526,  527,  528,\n",
       "        529,  530,  531,  532,  533,  534,  535,  536,  537,  538,  539,\n",
       "        540,  541,  542,  543,  544,  545,  546,  547,  548,  549,  550,\n",
       "        551,  552,  553,  554,  555,  556,  557,  558,  559,  560,  561,\n",
       "        562,  563,  564,  565,  566,  567,  568,  569,  570,  571,  572,\n",
       "        573,  574,  575,  576,  577,  578,  579,  580,  581,  582,  583,\n",
       "        584,  585,  586,  587,  588,  589,  590,  591,  592,  593,  594,\n",
       "        595,  596,  597,  598,  599,  600,  601,  602,  603,  604,  605,\n",
       "        606,  607,  608,  609,  610,  611,  612,  613,  614,  615,  616,\n",
       "        617,  618,  619,  620,  621,  622,  623,  624,  625,  626,  627,\n",
       "        628,  629,  630,  631,  632,  633,  634,  635,  636,  637,  638,\n",
       "        639,  640,  641,  642,  643,  644,  645,  646,  647,  648,  649,\n",
       "        650,  651,  652,  653,  654,  655,  656,  657,  658,  659,  660,\n",
       "        661,  662,  663,  664,  665,  666,  667,  668,  669,  670,  671,\n",
       "        672,  673,  674,  675,  676,  677,  678,  679,  680,  681,  682,\n",
       "        683,  684,  685,  686,  687,  688,  689,  690,  691,  692,  693,\n",
       "        694,  695,  696,  697,  698,  699,  700,  701,  702,  703,  704,\n",
       "        705,  706,  707,  708,  709,  710,  711,  712,  713,  714,  715,\n",
       "        716,  717,  718,  719,  720,  721,  722,  723,  724,  725,  726,\n",
       "        727,  728,  729,  730,  731,  732,  733,  734,  735,  736,  737,\n",
       "        738,  739,  740,  741,  742,  743,  744,  745,  746,  747,  748,\n",
       "        749,  750,  751,  752,  753,  754,  755,  756,  757,  758,  759,\n",
       "        760,  761,  762,  763,  764,  765,  766,  767,  768,  769,  770,\n",
       "        771,  772,  773,  774,  775,  776,  777,  778,  779,  780,  781,\n",
       "        782,  783,  784,  785,  786,  787,  788,  789,  790,  791,  792,\n",
       "        793,  794,  795,  796,  797,  798,  799,  800,  801,  802,  803,\n",
       "        804,  805,  806,  807,  808,  809,  810,  811,  812,  813,  814,\n",
       "        815,  816,  817,  818,  819,  820,  821,  822,  823,  824,  825,\n",
       "        826,  827,  828,  829,  830,  831,  832,  833,  834,  835,  836,\n",
       "        837,  838,  839,  840,  841,  842,  843,  844,  845,  846,  847,\n",
       "        848,  849,  850,  851,  852,  853,  854,  855,  856,  857,  858,\n",
       "        859,  860,  861,  862,  863,  864,  865,  866,  867,  868,  869,\n",
       "        870,  871,  872,  873,  874,  875,  876,  877,  878,  879,  880,\n",
       "        881,  882,  883,  884,  885,  886,  887,  888,  889,  890,  891,\n",
       "        892,  893,  894,  895,  896,  897,  898,  899,  900,  901,  902,\n",
       "        903,  904,  905,  906,  907,  908,  909,  910,  911,  912,  913,\n",
       "        914,  915,  916,  917,  918,  919,  920,  921,  922,  923,  924,\n",
       "        925,  926,  927,  928,  929,  930,  931,  932,  933,  934,  935,\n",
       "        936,  937,  938,  939,  940,  941,  942,  943,  944,  945,  946,\n",
       "        947,  948,  949,  950,  951,  952,  953,  954,  955,  956,  957,\n",
       "        958,  959,  960,  961,  962,  963,  964,  965,  966,  967,  968,\n",
       "        969,  970,  971,  972,  973,  974,  975,  976,  977,  978,  979,\n",
       "        980,  981,  982,  983,  984,  985,  986,  987,  988,  989,  990,\n",
       "        991,  992,  993,  994,  995,  996,  997,  998,  999, 1000])"
      ]
     },
     "execution_count": 3,
     "metadata": {},
     "output_type": "execute_result"
    }
   ],
   "source": [
    "an_array_1_to_1000 = np.arange(1,1001)\n",
    "an_array_1_to_1000"
   ]
  },
  {
   "cell_type": "code",
   "execution_count": 4,
   "id": "ab4d6324",
   "metadata": {},
   "outputs": [
    {
     "ename": "TypeError",
     "evalue": "'<' not supported between instances of 'int' and 'ellipsis'",
     "output_type": "error",
     "traceback": [
      "\u001b[0;31m---------------------------------------------------------------------------\u001b[0m",
      "\u001b[0;31mTypeError\u001b[0m                                 Traceback (most recent call last)",
      "Cell \u001b[0;32mIn[4], line 1\u001b[0m\n\u001b[0;32m----> 1\u001b[0m \u001b[43mpercentile\u001b[49m\u001b[43m(\u001b[49m\u001b[38;5;241;43m.\u001b[39;49m\u001b[38;5;241;43m.\u001b[39;49m\u001b[38;5;241;43m.\u001b[39;49m\u001b[43m,\u001b[49m\u001b[43man_array_1_to_1000\u001b[49m\u001b[43m)\u001b[49m\n",
      "File \u001b[0;32m/srv/conda/envs/notebook/lib/python3.11/site-packages/datascience/util.py:71\u001b[0m, in \u001b[0;36mpercentile\u001b[0;34m(p, arr)\u001b[0m\n\u001b[1;32m     69\u001b[0m \u001b[38;5;28;01mif\u001b[39;00m p \u001b[38;5;241m==\u001b[39m \u001b[38;5;241m0\u001b[39m:\n\u001b[1;32m     70\u001b[0m     \u001b[38;5;28;01mreturn\u001b[39;00m \u001b[38;5;28mmin\u001b[39m(arr)\n\u001b[0;32m---> 71\u001b[0m \u001b[38;5;28;01massert\u001b[39;00m \u001b[38;5;241;43m0\u001b[39;49m\u001b[43m \u001b[49m\u001b[38;5;241;43m<\u001b[39;49m\u001b[43m \u001b[49m\u001b[43mp\u001b[49m\u001b[43m \u001b[49m\u001b[38;5;241;43m<\u001b[39;49m\u001b[38;5;241;43m=\u001b[39;49m\u001b[43m \u001b[49m\u001b[38;5;241;43m100\u001b[39;49m, \u001b[38;5;124m'\u001b[39m\u001b[38;5;124mPercentile requires a percent\u001b[39m\u001b[38;5;124m'\u001b[39m\n\u001b[1;32m     72\u001b[0m i \u001b[38;5;241m=\u001b[39m (p\u001b[38;5;241m/\u001b[39m\u001b[38;5;241m100\u001b[39m) \u001b[38;5;241m*\u001b[39m \u001b[38;5;28mlen\u001b[39m(arr)\n\u001b[1;32m     73\u001b[0m \u001b[38;5;28;01mreturn\u001b[39;00m \u001b[38;5;28msorted\u001b[39m(arr)[math\u001b[38;5;241m.\u001b[39mceil(i) \u001b[38;5;241m-\u001b[39m \u001b[38;5;241m1\u001b[39m]\n",
      "\u001b[0;31mTypeError\u001b[0m: '<' not supported between instances of 'int' and 'ellipsis'"
     ]
    }
   ],
   "source": [
    "percentile(...,an_array_1_to_1000)"
   ]
  },
  {
   "cell_type": "code",
   "execution_count": null,
   "id": "f44fde18",
   "metadata": {},
   "outputs": [],
   "source": []
  },
  {
   "cell_type": "code",
   "execution_count": null,
   "id": "5c883c8a",
   "metadata": {},
   "outputs": [],
   "source": []
  },
  {
   "cell_type": "markdown",
   "id": "4d6a07a0",
   "metadata": {},
   "source": [
    "# Constructing Confidence Intervals"
   ]
  },
  {
   "cell_type": "code",
   "execution_count": 6,
   "id": "7a19e909",
   "metadata": {},
   "outputs": [
    {
     "data": {
      "text/html": [
       "<table border=\"1\" class=\"dataframe\">\n",
       "    <thead>\n",
       "        <tr>\n",
       "            <th>USMER</th> <th>MEDICAL_UNIT</th> <th>SEX</th> <th>PATIENT_TYPE</th> <th>DATE_DIED</th> <th>INTUBED</th> <th>PNEUMONIA</th> <th>AGE</th> <th>PREGNANT</th> <th>DIABETES</th> <th>COPD</th> <th>ASTHMA</th> <th>INMSUPR</th> <th>HIPERTENSION</th> <th>OTHER_DISEASE</th> <th>CARDIOVASCULAR</th> <th>OBESITY</th> <th>RENAL_CHRONIC</th> <th>TOBACCO</th> <th>CLASIFFICATION_FINAL</th> <th>ICU</th>\n",
       "        </tr>\n",
       "    </thead>\n",
       "    <tbody>\n",
       "        <tr>\n",
       "            <td>2    </td> <td>1           </td> <td>1   </td> <td>1           </td> <td>3/5/2020  </td> <td>97     </td> <td>1        </td> <td>65  </td> <td>2       </td> <td>2       </td> <td>2   </td> <td>2     </td> <td>2      </td> <td>1           </td> <td>2            </td> <td>2             </td> <td>2      </td> <td>2            </td> <td>2      </td> <td>3                   </td> <td>97  </td>\n",
       "        </tr>\n",
       "        <tr>\n",
       "            <td>2    </td> <td>1           </td> <td>1   </td> <td>1           </td> <td>12/6/2020 </td> <td>97     </td> <td>2        </td> <td>53  </td> <td>2       </td> <td>2       </td> <td>2   </td> <td>2     </td> <td>2      </td> <td>2           </td> <td>2            </td> <td>2             </td> <td>2      </td> <td>2            </td> <td>2      </td> <td>7                   </td> <td>97  </td>\n",
       "        </tr>\n",
       "        <tr>\n",
       "            <td>2    </td> <td>1           </td> <td>1   </td> <td>1           </td> <td>9999-99-99</td> <td>97     </td> <td>2        </td> <td>64  </td> <td>2       </td> <td>2       </td> <td>2   </td> <td>2     </td> <td>2      </td> <td>2           </td> <td>2            </td> <td>2             </td> <td>2      </td> <td>2            </td> <td>2      </td> <td>3                   </td> <td>97  </td>\n",
       "        </tr>\n",
       "        <tr>\n",
       "            <td>2    </td> <td>1           </td> <td>1   </td> <td>2           </td> <td>9999-99-99</td> <td>2      </td> <td>2        </td> <td>25  </td> <td>2       </td> <td>2       </td> <td>2   </td> <td>2     </td> <td>2      </td> <td>2           </td> <td>2            </td> <td>2             </td> <td>2      </td> <td>2            </td> <td>2      </td> <td>3                   </td> <td>2   </td>\n",
       "        </tr>\n",
       "        <tr>\n",
       "            <td>2    </td> <td>1           </td> <td>2   </td> <td>2           </td> <td>9999-99-99</td> <td>2      </td> <td>2        </td> <td>30  </td> <td>97      </td> <td>2       </td> <td>2   </td> <td>2     </td> <td>2      </td> <td>2           </td> <td>2            </td> <td>2             </td> <td>2      </td> <td>2            </td> <td>2      </td> <td>3                   </td> <td>2   </td>\n",
       "        </tr>\n",
       "        <tr>\n",
       "            <td>2    </td> <td>1           </td> <td>1   </td> <td>1           </td> <td>9999-99-99</td> <td>97     </td> <td>2        </td> <td>23  </td> <td>2       </td> <td>2       </td> <td>2   </td> <td>2     </td> <td>2      </td> <td>2           </td> <td>2            </td> <td>2             </td> <td>2      </td> <td>2            </td> <td>2      </td> <td>3                   </td> <td>97  </td>\n",
       "        </tr>\n",
       "        <tr>\n",
       "            <td>2    </td> <td>1           </td> <td>2   </td> <td>1           </td> <td>9999-99-99</td> <td>97     </td> <td>2        </td> <td>54  </td> <td>97      </td> <td>2       </td> <td>2   </td> <td>2     </td> <td>2      </td> <td>2           </td> <td>2            </td> <td>2             </td> <td>2      </td> <td>2            </td> <td>2      </td> <td>3                   </td> <td>97  </td>\n",
       "        </tr>\n",
       "        <tr>\n",
       "            <td>2    </td> <td>1           </td> <td>2   </td> <td>1           </td> <td>9999-99-99</td> <td>97     </td> <td>2        </td> <td>30  </td> <td>97      </td> <td>2       </td> <td>2   </td> <td>2     </td> <td>2      </td> <td>2           </td> <td>2            </td> <td>2             </td> <td>2      </td> <td>2            </td> <td>2      </td> <td>3                   </td> <td>97  </td>\n",
       "        </tr>\n",
       "        <tr>\n",
       "            <td>2    </td> <td>1           </td> <td>1   </td> <td>1           </td> <td>9999-99-99</td> <td>97     </td> <td>2        </td> <td>38  </td> <td>2       </td> <td>2       </td> <td>2   </td> <td>2     </td> <td>2      </td> <td>2           </td> <td>2            </td> <td>2             </td> <td>2      </td> <td>1            </td> <td>2      </td> <td>3                   </td> <td>97  </td>\n",
       "        </tr>\n",
       "        <tr>\n",
       "            <td>2    </td> <td>1           </td> <td>2   </td> <td>1           </td> <td>9999-99-99</td> <td>97     </td> <td>2        </td> <td>49  </td> <td>97      </td> <td>2       </td> <td>2   </td> <td>2     </td> <td>2      </td> <td>2           </td> <td>2            </td> <td>2             </td> <td>2      </td> <td>2            </td> <td>2      </td> <td>3                   </td> <td>97  </td>\n",
       "        </tr>\n",
       "    </tbody>\n",
       "</table>\n",
       "<p>... (349515 rows omitted)</p>"
      ],
      "text/plain": [
       "USMER | MEDICAL_UNIT | SEX  | PATIENT_TYPE | DATE_DIED  | INTUBED | PNEUMONIA | AGE  | PREGNANT | DIABETES | COPD | ASTHMA | INMSUPR | HIPERTENSION | OTHER_DISEASE | CARDIOVASCULAR | OBESITY | RENAL_CHRONIC | TOBACCO | CLASIFFICATION_FINAL | ICU\n",
       "2     | 1            | 1    | 1            | 3/5/2020   | 97      | 1         | 65   | 2        | 2        | 2    | 2      | 2       | 1            | 2             | 2              | 2       | 2             | 2       | 3                    | 97\n",
       "2     | 1            | 1    | 1            | 12/6/2020  | 97      | 2         | 53   | 2        | 2        | 2    | 2      | 2       | 2            | 2             | 2              | 2       | 2             | 2       | 7                    | 97\n",
       "2     | 1            | 1    | 1            | 9999-99-99 | 97      | 2         | 64   | 2        | 2        | 2    | 2      | 2       | 2            | 2             | 2              | 2       | 2             | 2       | 3                    | 97\n",
       "2     | 1            | 1    | 2            | 9999-99-99 | 2       | 2         | 25   | 2        | 2        | 2    | 2      | 2       | 2            | 2             | 2              | 2       | 2             | 2       | 3                    | 2\n",
       "2     | 1            | 2    | 2            | 9999-99-99 | 2       | 2         | 30   | 97       | 2        | 2    | 2      | 2       | 2            | 2             | 2              | 2       | 2             | 2       | 3                    | 2\n",
       "2     | 1            | 1    | 1            | 9999-99-99 | 97      | 2         | 23   | 2        | 2        | 2    | 2      | 2       | 2            | 2             | 2              | 2       | 2             | 2       | 3                    | 97\n",
       "2     | 1            | 2    | 1            | 9999-99-99 | 97      | 2         | 54   | 97       | 2        | 2    | 2      | 2       | 2            | 2             | 2              | 2       | 2             | 2       | 3                    | 97\n",
       "2     | 1            | 2    | 1            | 9999-99-99 | 97      | 2         | 30   | 97       | 2        | 2    | 2      | 2       | 2            | 2             | 2              | 2       | 2             | 2       | 3                    | 97\n",
       "2     | 1            | 1    | 1            | 9999-99-99 | 97      | 2         | 38   | 2        | 2        | 2    | 2      | 2       | 2            | 2             | 2              | 2       | 1             | 2       | 3                    | 97\n",
       "2     | 1            | 2    | 1            | 9999-99-99 | 97      | 2         | 49   | 97       | 2        | 2    | 2      | 2       | 2            | 2             | 2              | 2       | 2             | 2       | 3                    | 97\n",
       "... (349515 rows omitted)"
      ]
     },
     "execution_count": 6,
     "metadata": {},
     "output_type": "execute_result"
    }
   ],
   "source": [
    "link = \"https://raw.githubusercontent.com/humdskyline/data/main/Covid_Data_subset.csv\"\n",
    "covid_data = Table.read_table(link)\n",
    "covid_data\n"
   ]
  },
  {
   "cell_type": "markdown",
   "id": "247d623e",
   "metadata": {},
   "source": [
    "#### Let's consider this data set to be our population, and calculate the death rate of patients with covid.Those with an impossible date for death can be assumed to live in this data set.  Find the actual covid death rate"
   ]
  },
  {
   "cell_type": "code",
   "execution_count": 9,
   "id": "f8c3fe24",
   "metadata": {},
   "outputs": [],
   "source": [
    "living_count = covid_data.where('DATE_DIED', '9999-99-99').num_rows\n",
    "\n",
    "#finish this.  We need the percent of people that died\n",
    "proportion_living = living_count/covid_data.num_rows\n",
    "proportion_deaths = 1 - proportion_living\n",
    "percent_deaths = proportion_deaths * 100\n",
    "perc\n",
    "\n"
   ]
  },
  {
   "cell_type": "markdown",
   "id": "f667888e",
   "metadata": {},
   "source": [
    "### Let's play out a scenario"
   ]
  },
  {
   "cell_type": "markdown",
   "id": "099bbefe",
   "metadata": {},
   "source": [
    "Suppose that we are still in the early stages of the covid pandemic. You work for a hospital that has seen 100 patients so far. You want to know how deadly this illness is to the population. "
   ]
  },
  {
   "cell_type": "code",
   "execution_count": null,
   "id": "319a83f9",
   "metadata": {},
   "outputs": [],
   "source": [
    "#we proceed by taking a sample of 100 from the covid table. Let's assume that these are the 100 patients we saw.\n",
    "covid_sample = covid_data.sample(100,with_replacement = False)\n",
    "covid_sample"
   ]
  },
  {
   "cell_type": "markdown",
   "id": "30e96e24",
   "metadata": {},
   "source": [
    "Then we can define the following functions to construct an upper and lower bound for the confidence interval"
   ]
  },
  {
   "cell_type": "code",
   "execution_count": 16,
   "id": "d05e53f2",
   "metadata": {},
   "outputs": [],
   "source": [
    "def confidence_interval_for_death_rate(level):\n",
    "    stats = make_array() #create an empty array, these will contain death rates of re-sampled (size 100) patients\n",
    "    \n",
    "    for i in np.arange(1000):\n",
    "        # creates a bootstrap resample\n",
    "        bootstrap_resample = ...\n",
    "        #calculate the statistic on the bootstrap resample (one of the many estimates)\n",
    "        stat = ...\n",
    "        # death rate statistic stored in 'stats' array\n",
    "        stats = ...\n",
    "\n",
    "\n",
    "    lower_bound = ...\n",
    "    upper_bound = ...\n",
    "\n",
    "    print( 'We are '+ str(level)+'% confident that the true death rate is between '+str(lower_bound)+'% and '+str(upper_bound) +'%')"
   ]
  },
  {
   "cell_type": "code",
   "execution_count": 15,
   "id": "9cd92ba7",
   "metadata": {},
   "outputs": [
    {
     "name": "stdout",
     "output_type": "stream",
     "text": [
      "We are 95% confident that the true death rate is between 2.0% and 12.0%\n"
     ]
    }
   ],
   "source": [
    "confidence_interval_for_death_rate(95)"
   ]
  },
  {
   "cell_type": "code",
   "execution_count": null,
   "id": "6ef5b52c",
   "metadata": {},
   "outputs": [],
   "source": [
    "np.mean(covid_data.column('AGE'))"
   ]
  },
  {
   "cell_type": "code",
   "execution_count": null,
   "id": "ff55270a",
   "metadata": {},
   "outputs": [],
   "source": []
  }
 ],
 "metadata": {
  "kernelspec": {
   "display_name": "Python 3 (ipykernel)",
   "language": "python",
   "name": "python3"
  },
  "language_info": {
   "codemirror_mode": {
    "name": "ipython",
    "version": 3
   },
   "file_extension": ".py",
   "mimetype": "text/x-python",
   "name": "python",
   "nbconvert_exporter": "python",
   "pygments_lexer": "ipython3",
   "version": "3.11.13"
  }
 },
 "nbformat": 4,
 "nbformat_minor": 5
}
