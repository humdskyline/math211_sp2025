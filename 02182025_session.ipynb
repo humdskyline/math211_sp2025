{
 "cells": [
  {
   "cell_type": "markdown",
   "id": "ce3070dd",
   "metadata": {},
   "source": [
    "### <a href=\"http://www.data8.org/sp20/python-reference.html\"> Python Reference Link <a>\n",
    "\n",
    "Run the cell below so that we can set our modules up\n"
   ]
  },
  {
   "cell_type": "code",
   "execution_count": null,
   "id": "c529e5f4",
   "metadata": {},
   "outputs": [],
   "source": [
    "import numpy as np\n",
    "from datascience import *\n",
    "import math"
   ]
  },
  {
   "cell_type": "code",
   "execution_count": null,
   "id": "7c001ba1",
   "metadata": {},
   "outputs": [],
   "source": [
    "link = \"https://raw.githubusercontent.com/humdskyline/data/main/class_survey_s2025.csv\"\n",
    "class_survey = Table.read_table(link)\n",
    "class_survey.show(5)"
   ]
  },
  {
   "cell_type": "markdown",
   "id": "01d383dc",
   "metadata": {},
   "source": [
    "### 1. Write the Python code to find:\n",
    "<i>Using the group function, how many people drive and have Squirtle as their starter Pokemon?</i>"
   ]
  },
  {
   "cell_type": "code",
   "execution_count": null,
   "id": "f3bebf68",
   "metadata": {},
   "outputs": [],
   "source": []
  },
  {
   "cell_type": "markdown",
   "id": "ce0b6712",
   "metadata": {},
   "source": [
    "### Write the Python code to find:\n",
    "<i>Using the pivot function, how many people drive and have Squirtle as their starter Pokemon?</i>"
   ]
  },
  {
   "cell_type": "code",
   "execution_count": null,
   "id": "fad9c653",
   "metadata": {},
   "outputs": [],
   "source": []
  },
  {
   "cell_type": "markdown",
   "id": "964ef7aa",
   "metadata": {},
   "source": [
    "### Which result is better to answer the question, the one with that uses group or pivot?  Explain"
   ]
  },
  {
   "cell_type": "markdown",
   "id": "1567a0da",
   "metadata": {},
   "source": []
  },
  {
   "cell_type": "markdown",
   "id": "df5ba089",
   "metadata": {},
   "source": [
    "### 2.  Write the Python code to find: \n",
    "<i>Using the group function, what is the average number of close friends that people who drive and have Squirtle as their starter Pokemon have?</i>"
   ]
  },
  {
   "cell_type": "code",
   "execution_count": null,
   "id": "f7aacec0",
   "metadata": {},
   "outputs": [],
   "source": []
  },
  {
   "cell_type": "markdown",
   "id": "1c16b1af",
   "metadata": {},
   "source": [
    "### Write the Python code to find: \n",
    "<i>Using the pivot function, what is the average number of close friends that people who drive and have Squirtle as their starter Pokemon have?</i>"
   ]
  },
  {
   "cell_type": "code",
   "execution_count": null,
   "id": "9159a77e",
   "metadata": {},
   "outputs": [],
   "source": []
  },
  {
   "cell_type": "markdown",
   "id": "11622e1c",
   "metadata": {},
   "source": [
    "### Which result is better to answer the question, the one with that uses group or pivot?  Explain"
   ]
  },
  {
   "cell_type": "markdown",
   "id": "b79e3213",
   "metadata": {},
   "source": []
  },
  {
   "cell_type": "markdown",
   "id": "dae935cf",
   "metadata": {},
   "source": [
    "### Consider a subset of class_survey, some_cols"
   ]
  },
  {
   "cell_type": "code",
   "execution_count": null,
   "id": "366e8b4f",
   "metadata": {},
   "outputs": [],
   "source": [
    "some_cols = class_survey.select(\"Starter Pokemon\", \"Costco Member\", \"Food Pref\", \"Close Friends Count\")\n",
    "some_cols"
   ]
  },
  {
   "cell_type": "markdown",
   "id": "21ba1110",
   "metadata": {},
   "source": [
    "### Here are two more functions.  Use one of them to answer the question that follows"
   ]
  },
  {
   "cell_type": "code",
   "execution_count": null,
   "id": "272f63e5",
   "metadata": {},
   "outputs": [],
   "source": [
    "# Pick one of the two functions defined below in your call to group.\n",
    "def first_item(array):\n",
    "    '''Returns the first item'''\n",
    "    return array.item(0)\n",
    "\n",
    "def full_array(array):\n",
    "    '''Returns the array that is passed through'''\n",
    "    return array "
   ]
  },
  {
   "cell_type": "markdown",
   "id": "1571db96",
   "metadata": {},
   "source": [
    "### 4. For each starter Pokemon, how can we find out what types of food preferences people have?  "
   ]
  },
  {
   "cell_type": "code",
   "execution_count": null,
   "id": "436dbffe",
   "metadata": {},
   "outputs": [],
   "source": [
    "\n"
   ]
  }
 ],
 "metadata": {
  "celltoolbar": "Tags",
  "kernelspec": {
   "display_name": "Python 3 (ipykernel)",
   "language": "python",
   "name": "python3"
  },
  "language_info": {
   "codemirror_mode": {
    "name": "ipython",
    "version": 3
   },
   "file_extension": ".py",
   "mimetype": "text/x-python",
   "name": "python",
   "nbconvert_exporter": "python",
   "pygments_lexer": "ipython3",
   "version": "3.10.11"
  }
 },
 "nbformat": 4,
 "nbformat_minor": 5
}
