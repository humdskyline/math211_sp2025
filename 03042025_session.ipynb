{
 "cells": [
  {
   "cell_type": "markdown",
   "id": "ce3070dd",
   "metadata": {},
   "source": [
    "### <a href=\"http://www.data8.org/sp20/python-reference.html\"> Python Reference Link <a>\n",
    "\n",
    "Run the cell below so that we can set our modules up\n"
   ]
  },
  {
   "cell_type": "code",
   "execution_count": null,
   "id": "c529e5f4",
   "metadata": {},
   "outputs": [],
   "source": [
    "import numpy as np\n",
    "from datascience import *\n",
    "import math"
   ]
  },
  {
   "cell_type": "code",
   "execution_count": null,
   "id": "7c001ba1",
   "metadata": {},
   "outputs": [],
   "source": [
    "link = \"https://raw.githubusercontent.com/humdskyline/data/main/class_survey_s2025.csv\"\n",
    "class_survey = Table.read_table(link)\n",
    "class_survey.show(5)"
   ]
  },
  {
   "cell_type": "markdown",
   "id": "01d383dc",
   "metadata": {},
   "source": [
    "## 1. Write the Python code to find:\n",
    "<i>What is the population mean number of close friends people in the survey have?</i>"
   ]
  },
  {
   "cell_type": "code",
   "execution_count": null,
   "id": "f3bebf68",
   "metadata": {},
   "outputs": [],
   "source": [
    "cfc = class_survey.column(\"Close Friends Count\")\n",
    "print(cfc)\n",
    "cfc_avg = np.average(cfc)\n",
    "print(cfc_avg)"
   ]
  },
  {
   "cell_type": "markdown",
   "id": "bdd26f3c",
   "metadata": {},
   "source": [
    "## Let's start by looking at random sampling (with replacement)\n",
    "### 2. Start by setting sample size to 10.  Use np.random.choice to get a sample.  Then find the sample mean.\n",
    "Rerun the cell several times to see how the sample and sample mean change"
   ]
  },
  {
   "cell_type": "code",
   "execution_count": null,
   "id": "f270e7ac",
   "metadata": {},
   "outputs": [],
   "source": [
    "sample_size = ...\n",
    "\n",
    "a_sample = ...\n",
    "a_sample_mean = ...\n",
    "print(a_sample)\n",
    "print(a_sample_mean)"
   ]
  },
  {
   "cell_type": "markdown",
   "id": "a8d99265",
   "metadata": {},
   "source": [
    "### Now increase the sample size above.  Run the cell again a few times and observe the sample and sample means\n",
    "\n",
    "And then play around with the sample size, running the cell again several times and observe.  What do you notice?"
   ]
  },
  {
   "cell_type": "markdown",
   "id": "8cb4b6fb",
   "metadata": {},
   "source": [
    "## Now let's look at a simple random sample (without replacement) and see how that sample mean compares\n",
    "\n",
    "Recall that to use the sample method, you start with a table and the output is a table\n",
    "Start with a sample size of 10, run it a few times, and observe.  Then play around with the sample size."
   ]
  },
  {
   "cell_type": "code",
   "execution_count": null,
   "id": "16c8e838",
   "metadata": {},
   "outputs": [],
   "source": [
    "sample_size_2 = ...\n",
    "srs = ...\n",
    "sample_cfc = srs.column(\"Close Friends Count\")\n",
    "print(sample_cfc)\n",
    "cfc_srs_sample_mean = ...\n",
    "print(cfc_srs_sample_mean)"
   ]
  },
  {
   "cell_type": "markdown",
   "id": "e08ff577",
   "metadata": {},
   "source": [
    "## In reality, we also take into account how the sample mean behaves, by looking at the sampling distribution of sample means.  We will talk about this in the future, but for now, let's put some ideas together.\n",
    "- We want to get 1000 samples of size 30\n",
    "- Find the mean of each sample and store them in an array\n",
    "- Then find the mean of all those sample means.\n",
    "\n",
    "Use simple random sampling without replacement for this.  Run this a few times.  What do you notice about the mean of the sample means?"
   ]
  },
  {
   "cell_type": "code",
   "execution_count": null,
   "id": "f7aacec0",
   "metadata": {},
   "outputs": [],
   "source": [
    "sample_size = ...\n",
    "num_samples = ...\n",
    "the_sample_averages = make_array()\n",
    "\n",
    "for i in np.arange(num_samples):\n",
    "    srs = ...\n",
    "    #print(srs)\n",
    "    sample_cfc = srs.column(\"Close Friends Count\")\n",
    "    samp_avg = \n",
    "    \n",
    "    #notice that I am essentially appending the latest sample mean to the array of sample means\n",
    "    the_sample_averages = np.append(the_sample_averages, samp_avg)\n",
    "    \n",
    "samp_avg_samp_mean = np.mean(the_sample_averages)\n",
    "\n",
    "print(samp_avg_samp_mean)"
   ]
  }
 ],
 "metadata": {
  "celltoolbar": "Tags",
  "kernelspec": {
   "display_name": "Python 3 (ipykernel)",
   "language": "python",
   "name": "python3"
  },
  "language_info": {
   "codemirror_mode": {
    "name": "ipython",
    "version": 3
   },
   "file_extension": ".py",
   "mimetype": "text/x-python",
   "name": "python",
   "nbconvert_exporter": "python",
   "pygments_lexer": "ipython3",
   "version": "3.10.11"
  }
 },
 "nbformat": 4,
 "nbformat_minor": 5
}
