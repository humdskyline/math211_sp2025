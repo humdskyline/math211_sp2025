{
 "cells": [
  {
   "cell_type": "markdown",
   "id": "ce3070dd",
   "metadata": {},
   "source": [
    "### <a href=\"http://www.data8.org/sp20/python-reference.html\"> Python Reference Link <a>\n",
    "\n",
    "Run the cell below so that we can set our modules up\n"
   ]
  },
  {
   "cell_type": "code",
   "execution_count": null,
   "id": "c529e5f4",
   "metadata": {},
   "outputs": [],
   "source": [
    "import numpy as np\n",
    "from datascience import *\n",
    "import math"
   ]
  },
  {
   "cell_type": "code",
   "execution_count": null,
   "id": "7c001ba1",
   "metadata": {},
   "outputs": [],
   "source": [
    "link = \"https://raw.githubusercontent.com/humdskyline/data/main/first_class_survey_s2025.csv\"\n",
    "first_survey = Table.read_table(link)\n",
    "first_survey.show(5)"
   ]
  },
  {
   "cell_type": "markdown",
   "id": "01d383dc",
   "metadata": {},
   "source": [
    "### 1. Write the Python code to find:\n",
    "<i>What is the average height of the class?</i>"
   ]
  },
  {
   "cell_type": "code",
   "execution_count": null,
   "id": "f3bebf68",
   "metadata": {},
   "outputs": [],
   "source": []
  },
  {
   "cell_type": "markdown",
   "id": "ce0b6712",
   "metadata": {},
   "source": [
    "### 2. Write the Python code to find:\n",
    "the major of the person in the second row"
   ]
  },
  {
   "cell_type": "code",
   "execution_count": null,
   "id": "f7aacec0",
   "metadata": {},
   "outputs": [],
   "source": []
  },
  {
   "cell_type": "markdown",
   "id": "df5ba089",
   "metadata": {},
   "source": [
    "### 3.  Now try finding the previous answer a different way using Python"
   ]
  },
  {
   "cell_type": "code",
   "execution_count": null,
   "id": "9c514a6e",
   "metadata": {},
   "outputs": [],
   "source": []
  },
  {
   "cell_type": "markdown",
   "id": "1c16b1af",
   "metadata": {},
   "source": [
    "### 4. Find the heights and favorite colors of students in this class"
   ]
  },
  {
   "cell_type": "code",
   "execution_count": null,
   "id": "9159a77e",
   "metadata": {},
   "outputs": [],
   "source": []
  },
  {
   "cell_type": "markdown",
   "id": "dae935cf",
   "metadata": {},
   "source": [
    "### 5. Find the students in this class that have more than two people in their households."
   ]
  },
  {
   "cell_type": "code",
   "execution_count": null,
   "id": "366e8b4f",
   "metadata": {},
   "outputs": [],
   "source": []
  },
  {
   "cell_type": "markdown",
   "id": "21ba1110",
   "metadata": {},
   "source": [
    "### 6. Find the heights and favorite colors of students in this class that have more than two people in their households."
   ]
  },
  {
   "cell_type": "code",
   "execution_count": null,
   "id": "272f63e5",
   "metadata": {},
   "outputs": [],
   "source": []
  }
 ],
 "metadata": {
  "celltoolbar": "Tags",
  "kernelspec": {
   "display_name": "Python 3 (ipykernel)",
   "language": "python",
   "name": "python3"
  },
  "language_info": {
   "codemirror_mode": {
    "name": "ipython",
    "version": 3
   },
   "file_extension": ".py",
   "mimetype": "text/x-python",
   "name": "python",
   "nbconvert_exporter": "python",
   "pygments_lexer": "ipython3",
   "version": "3.10.11"
  }
 },
 "nbformat": 4,
 "nbformat_minor": 5
}
