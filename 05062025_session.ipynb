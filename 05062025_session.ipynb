{
 "cells": [
  {
   "cell_type": "markdown",
   "id": "ef4f0a85",
   "metadata": {},
   "source": [
    "# [Python Reference Link](http://www.data8.org/sp20/python-reference.html)\n",
    "*Run the cell below so that we can set our modules up*"
   ]
  },
  {
   "cell_type": "code",
   "execution_count": null,
   "id": "43e6bb51",
   "metadata": {},
   "outputs": [],
   "source": [
    "import numpy as np\n",
    "from datascience import *\n",
    "import math as m\n",
    "\n",
    "# These lines do some fancy plotting magic.\n",
    "import matplotlib\n",
    "%matplotlib inline\n",
    "import matplotlib.pyplot as plt\n",
    "plt.style.use('fivethirtyeight')\n",
    "import warnings\n",
    "warnings.simplefilter('ignore', FutureWarning)"
   ]
  },
  {
   "cell_type": "markdown",
   "id": "8edf176e",
   "metadata": {},
   "source": [
    "# Classification - Examination through ScatterPlots"
   ]
  },
  {
   "cell_type": "code",
   "execution_count": null,
   "id": "3e4892ad",
   "metadata": {},
   "outputs": [],
   "source": [
    "link = \"https://raw.githubusercontent.com/humdskyline/data/main/IRIS.csv\"\n",
    "iris =  Table.read_table(link)\n",
    "iris"
   ]
  },
  {
   "cell_type": "code",
   "execution_count": null,
   "id": "092f3f44",
   "metadata": {},
   "outputs": [],
   "source": [
    "#let's pick two of the column labels above and observe the scatter plot. \n",
    "# Note that each of the three species will be a different color on the plot to help us differentiate \n",
    "# the iris flower species\n",
    "\n",
    "iris.scatter(... , ... , group = 'species')"
   ]
  },
  {
   "cell_type": "markdown",
   "id": "492d85f0",
   "metadata": {},
   "source": [
    "# Identifying key variables for classification"
   ]
  },
  {
   "cell_type": "code",
   "execution_count": null,
   "id": "d2aefd1c",
   "metadata": {},
   "outputs": [],
   "source": [
    "#Now let's look at comparing ALL of the labels to each other in pairwise comparisons\n",
    "#run the code below \n",
    "\n",
    "labels_without_species = list(iris.labels)[:-1]\n",
    "plotted_pairs = []\n",
    "\n",
    "for x in labels_without_species:\n",
    "    for y in labels_without_species:\n",
    "        \n",
    "        ordered_pair =  {x,y}\n",
    "        \n",
    "        if (x != y) and (ordered_pair not in plotted_pairs):\n",
    "            iris.scatter(x,y,group='species')\n",
    "            plotted_pairs.append(ordered_pair)\n",
    "            \n",
    "print(plotted_pairs)    "
   ]
  },
  {
   "cell_type": "markdown",
   "id": "6e57d826",
   "metadata": {},
   "source": [
    "# Creating Training and Testing Data Sets"
   ]
  },
  {
   "cell_type": "code",
   "execution_count": null,
   "id": "9b0c99ee",
   "metadata": {},
   "outputs": [],
   "source": [
    "print('The iris data set has',iris.num_rows,'flowers represented in the sameple')"
   ]
  },
  {
   "cell_type": "markdown",
   "id": "5b876d02",
   "metadata": {},
   "source": [
    "Let's separate 100 rows of data and use it for the training set, and then use the remaining 50 rows of data for the test set. Since the table is organized nicely by species (which is what we are classifying) we want to mix these rows up. We can do this using the `sample` method to shuffle, and then `take` the first 100 rows for training, and the last 50 rows for testing"
   ]
  },
  {
   "cell_type": "code",
   "execution_count": null,
   "id": "98283576",
   "metadata": {},
   "outputs": [],
   "source": [
    "shuffled_iris = iris.sample(with_replacement = False)\n",
    "\n",
    "train_iris = shuffled_iris.take(np.arange(100))\n",
    "test_iris = shuffled_iris.take(np.arange(100, 150))\n",
    "\n",
    "print(\"Training set:\\t\",   train_iris.num_rows, \"examples\")\n",
    "print(\"Test set:\\t\",       test_iris.num_rows, \"examples\")\n",
    "train_iris.show(5), test_iris.show(5);"
   ]
  },
  {
   "cell_type": "markdown",
   "id": "72deeff4",
   "metadata": {},
   "source": [
    "# The Distance Formula"
   ]
  },
  {
   "cell_type": "markdown",
   "id": "a414d70c",
   "metadata": {},
   "source": [
    "#### The following function below is defined for you homework 12"
   ]
  },
  {
   "cell_type": "code",
   "execution_count": null,
   "id": "07713eea",
   "metadata": {},
   "outputs": [],
   "source": [
    "# row (input): a row from the table \n",
    "# features (input): an array of column labels. These labels are the attributes that will help us classify individuals. \n",
    "# Note: the attributes must be numerical to help us pass them through the distance function defined above. \n",
    "\n",
    "def row_to_array(row, features):\n",
    "    \"\"\"Converts a row to an array of its features.\"\"\"\n",
    "    arr = make_array()\n",
    "    for feature in features:\n",
    "        arr = np.append(arr, row.item(feature))\n",
    "    return arr"
   ]
  },
  {
   "cell_type": "code",
   "execution_count": null,
   "id": "08c5ef26",
   "metadata": {},
   "outputs": [],
   "source": [
    "iris_features = iris.drop('species').labels\n",
    "print(iris_features)\n",
    "first_setosa = row_to_array(iris.row(0),iris_features)\n",
    "second_setosa = row_to_array(iris.row(1),iris_features)\n",
    "last_virginica = row_to_array(iris.row(-1),iris_features)\n",
    "\n",
    "(sum((first_setosa - second_setosa)**2))**(0.5)"
   ]
  },
  {
   "cell_type": "markdown",
   "id": "01a2a690",
   "metadata": {},
   "source": [
    "Let's convert the above process into a single function:"
   ]
  },
  {
   "cell_type": "code",
   "execution_count": null,
   "id": "588fdec7",
   "metadata": {},
   "outputs": [],
   "source": [
    "def distance(array_one,array_two):\n",
    "    return np.sqrt(sum((array_one - array_two)**2))"
   ]
  },
  {
   "cell_type": "code",
   "execution_count": null,
   "id": "33561ab9",
   "metadata": {},
   "outputs": [],
   "source": [
    "distance(first_setosa,second_setosa)"
   ]
  },
  {
   "cell_type": "code",
   "execution_count": null,
   "id": "57dee628",
   "metadata": {},
   "outputs": [],
   "source": [
    "distance(first_setosa,last_virginica)"
   ]
  },
  {
   "cell_type": "code",
   "execution_count": null,
   "id": "368af46d",
   "metadata": {},
   "outputs": [],
   "source": [
    "distance(second_setosa,last_virginica)"
   ]
  },
  {
   "cell_type": "markdown",
   "id": "5ac99e9b",
   "metadata": {},
   "source": [
    "# Let's classify these irises"
   ]
  },
  {
   "cell_type": "markdown",
   "id": "fef73b49",
   "metadata": {},
   "source": [
    "## Finding the `k` Nearest Neighbors"
   ]
  },
  {
   "cell_type": "markdown",
   "id": "d4918bb5",
   "metadata": {},
   "source": [
    "### Some pre-formatting:"
   ]
  },
  {
   "cell_type": "code",
   "execution_count": null,
   "id": "53457484",
   "metadata": {},
   "outputs": [],
   "source": [
    "#Take the first row and use it to test\n",
    "row_to_test = test_iris.row(0)\n",
    "row_to_test"
   ]
  },
  {
   "cell_type": "code",
   "execution_count": null,
   "id": "0726d0cc",
   "metadata": {},
   "outputs": [],
   "source": [
    "test_features_array = row_to_array(...)\n",
    "test_features_array"
   ]
  },
  {
   "cell_type": "markdown",
   "id": "9c95cb43",
   "metadata": {},
   "source": [
    "### Find the distance between the example (i.e. test row) and each example in the training set"
   ]
  },
  {
   "cell_type": "code",
   "execution_count": null,
   "id": "c9806361",
   "metadata": {},
   "outputs": [],
   "source": [
    "# we will store the distance between the test row with all the rows in the training set. \n",
    "distances = make_array()\n",
    "\n",
    "# we will iterate through the training set row by row.  \n",
    "for train_row in train_iris.rows:\n",
    "    #convert the train_row into an array also\n",
    "    train_row_array = ...\n",
    "    \n",
    "    # compute the distance between the test row array and test row array\n",
    "    distance_to_test_row = ...\n",
    "    \n",
    "    # save the distance between these two arrays (test row and train row) into the distances array\n",
    "    distances = ...\n",
    "    \n",
    "\n",
    "distances"
   ]
  },
  {
   "cell_type": "markdown",
   "id": "a0034901",
   "metadata": {},
   "source": [
    "### Augment the training data table with a column containing all the distances"
   ]
  },
  {
   "cell_type": "code",
   "execution_count": null,
   "id": "5c7b2e55",
   "metadata": {},
   "outputs": [],
   "source": [
    "train_with_distances = ...\n",
    "train_with_distances"
   ]
  },
  {
   "cell_type": "markdown",
   "id": "649d9032",
   "metadata": {},
   "source": [
    "### Sort the augmented table in increasing order of the distances"
   ]
  },
  {
   "cell_type": "code",
   "execution_count": null,
   "id": "4526b973",
   "metadata": {},
   "outputs": [],
   "source": [
    "#by default sort orders in ascending order\n",
    "sorted_training = ...\n",
    "sorted_training"
   ]
  },
  {
   "cell_type": "markdown",
   "id": "e875fb75",
   "metadata": {},
   "source": [
    "### Take the top `k` rows of the sorted table"
   ]
  },
  {
   "cell_type": "code",
   "execution_count": null,
   "id": "506da356",
   "metadata": {},
   "outputs": [],
   "source": [
    "#choose k = 15\n",
    "k = ...\n",
    "top_k_training = ...\n",
    "top_k_training"
   ]
  },
  {
   "cell_type": "markdown",
   "id": "09b6ffa9",
   "metadata": {},
   "source": [
    "## The Classifier"
   ]
  },
  {
   "cell_type": "markdown",
   "id": "e37453d4",
   "metadata": {},
   "source": [
    "### Take a majority vote of the `k` nearest neighbors to see which of the two classes appear most often (visually)"
   ]
  },
  {
   "cell_type": "code",
   "execution_count": null,
   "id": "9e838ff0",
   "metadata": {},
   "outputs": [],
   "source": [
    "#Use the first row of the test set to test the classifier\n",
    "row_to_test = test_iris.row(0)"
   ]
  },
  {
   "cell_type": "code",
   "execution_count": null,
   "id": "b91ed8c2",
   "metadata": {},
   "outputs": [],
   "source": [
    "x_axis_label = \"sepal_length\"\n",
    "y_axis_label = \"petal_width\"\n",
    "\n",
    "top_k_training.scatter(x_axis_label, y_axis_label, group = \"species\")\n",
    "plt.scatter(row_to_test.item(x_axis_label), row_to_test.item(y_axis_label), marker = 'X', s = 100)"
   ]
  },
  {
   "cell_type": "markdown",
   "id": "9c862a55",
   "metadata": {},
   "source": [
    "### Take a majority vote of the `k` nearest neighbors to see which of the two classes appear most often (algorithm)"
   ]
  },
  {
   "cell_type": "code",
   "execution_count": null,
   "id": "e8e3a876",
   "metadata": {},
   "outputs": [],
   "source": [
    "groups = ...\n",
    "print(groups)\n",
    "decision = ...\n",
    "decision"
   ]
  },
  {
   "cell_type": "markdown",
   "id": "c37bea13",
   "metadata": {},
   "source": [
    "# Evaluating your classifier (Accuracy)\n",
    "What we did for the first row of the `test` table, we must repeat for the rest of the table. "
   ]
  },
  {
   "cell_type": "code",
   "execution_count": null,
   "id": "d408909d",
   "metadata": {},
   "outputs": [],
   "source": [
    "test_iris"
   ]
  },
  {
   "cell_type": "markdown",
   "id": "8609a077",
   "metadata": {},
   "source": [
    "As daunting as that sounds, a for-loop can sufficiently handle this. We repeat the above steps for each row of the test table: "
   ]
  },
  {
   "cell_type": "code",
   "execution_count": null,
   "id": "ba4fbcbb",
   "metadata": {},
   "outputs": [],
   "source": [
    "species_column = make_array()\n",
    "\n",
    "for test_row in test_iris.rows:\n",
    "    test_row_array = ...\n",
    "    distances = make_array()\n",
    "#######\n",
    "    for train_row in train_iris.rows:\n",
    "        #convert the train row into an array also\n",
    "        ...\n",
    "        #compute the distance between the test row array and the train row array\n",
    "        ...\n",
    "        #save the distance between these two arrays (test row and train row) into the distances array\n",
    "        \n",
    "#######\n",
    "    train_with_distances = train_iris.with_column('distances',distances)\n",
    "    sorted_training = ...\n",
    "    top_k_training = ...\n",
    "    species= ...\n",
    "    species_column = np.append(species_column, species)\n",
    "    \n",
    "len(species_column) == test_iris.num_rows "
   ]
  },
  {
   "cell_type": "code",
   "execution_count": null,
   "id": "230fcad7",
   "metadata": {},
   "outputs": [],
   "source": [
    "species_column"
   ]
  },
  {
   "cell_type": "code",
   "execution_count": null,
   "id": "c1ddf8c7",
   "metadata": {},
   "outputs": [],
   "source": [
    "np.count_nonzero(test_iris.column('species') == species_column)/len(species_column)"
   ]
  }
 ],
 "metadata": {
  "kernelspec": {
   "display_name": "Python 3 (ipykernel)",
   "language": "python",
   "name": "python3"
  },
  "language_info": {
   "codemirror_mode": {
    "name": "ipython",
    "version": 3
   },
   "file_extension": ".py",
   "mimetype": "text/x-python",
   "name": "python",
   "nbconvert_exporter": "python",
   "pygments_lexer": "ipython3",
   "version": "3.10.11"
  }
 },
 "nbformat": 4,
 "nbformat_minor": 5
}
