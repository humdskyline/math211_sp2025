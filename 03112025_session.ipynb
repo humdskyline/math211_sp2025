{
 "cells": [
  {
   "cell_type": "markdown",
   "id": "ce3070dd",
   "metadata": {},
   "source": [
    "### <a href=\"http://www.data8.org/sp20/python-reference.html\"> Python Reference Link <a>\n",
    "\n",
    "Run the cell below so that we can set our modules up\n"
   ]
  },
  {
   "cell_type": "code",
   "execution_count": null,
   "id": "c529e5f4",
   "metadata": {},
   "outputs": [],
   "source": [
    "# These lines import the Numpy and Datascience modules.\n",
    "import numpy as np\n",
    "from datascience import *\n",
    "\n",
    "# These lines do some fancy plotting magic\n",
    "import matplotlib\n",
    "%matplotlib inline\n",
    "import matplotlib.pyplot as plt\n",
    "plt.style.use('fivethirtyeight')\n",
    "import warnings\n",
    "warnings.simplefilter('ignore', FutureWarning)\n",
    "from matplotlib import patches\n",
    "from ipywidgets import interact, interactive, fixed\n",
    "import ipywidgets as widgets\n"
   ]
  },
  {
   "cell_type": "markdown",
   "id": "01d383dc",
   "metadata": {},
   "source": [
    "## In Robert Swain’s case, at the time, in Talladega County, AL, 26% of the eligible jury pool was Black.  For Robert Swain’s trial, the jury panel of 100 had only 8 Black people.  Was this jury biased?\n",
    "\n",
    "Let's start by defining the proportion of the eligible jurors in Talladega County, AL that were Black and the proportion that was non-Black.  And then create a sample of 100 jurors"
   ]
  },
  {
   "cell_type": "code",
   "execution_count": null,
   "id": "f3bebf68",
   "metadata": {},
   "outputs": [],
   "source": [
    "jury_prop = make_array(...)\n",
    "simulated_prop = ...\n",
    "simulated_prop"
   ]
  },
  {
   "cell_type": "markdown",
   "id": "bdd26f3c",
   "metadata": {},
   "source": [
    "### Since it's in the lab, define the function statistic which takes in an expected proportion and an actual proportion, and returns the value of the statistic chosen in \n",
    "\n",
    "Assume that the argument takes in proportions, but return your answer as a percentage.\n"
   ]
  },
  {
   "cell_type": "code",
   "execution_count": null,
   "id": "f270e7ac",
   "metadata": {},
   "outputs": [],
   "source": [
    "def statistic(expected_prop, actual_prop):\n",
    "\n",
    "    return ..."
   ]
  },
  {
   "cell_type": "markdown",
   "id": "b56a2909",
   "metadata": {},
   "source": [
    "### Use your newly defined function to calculate the observed statistic of Black jurors from the actual jury that was selected\n",
    "\n",
    "The jury pool consisted of 8 Black jurors from a pool of 100."
   ]
  },
  {
   "cell_type": "code",
   "execution_count": null,
   "id": "c9a468f7",
   "metadata": {},
   "outputs": [],
   "source": [
    "observed_statistic = ...\n",
    "observed_statistic"
   ]
  },
  {
   "cell_type": "markdown",
   "id": "8cb4b6fb",
   "metadata": {},
   "source": [
    "###  To begin simulating, we should start by using the representation of the county's eligible juror model defined above as `jury_prop`. \n",
    "\n",
    "After this, we can simulate 100 juror selections, as was selected in real life, and find a single statistic to summarize this instance of the simulation. Use the `sample_proportions` function and assign the **proportion of Black juror choices** (out of 100) to `simulation_proportion_correct`. Lastly, use your statistic function to assign `one_statistic`  to the value of the statistic for this one simulation."
   ]
  },
  {
   "cell_type": "code",
   "execution_count": null,
   "id": "16c8e838",
   "metadata": {},
   "outputs": [],
   "source": [
    "# This saves the random state of our code so that we can \n",
    "# generate the same numbers each time we run the code.\n",
    "# Please do not change this line. \n",
    "np.random.seed(20)\n",
    "\n",
    "\n",
    "simulation_proportion_correct = ...\n",
    "\n",
    "one_statistic = statistic(juror_proportions.item(0), simulation_proportion_correct)\n",
    "one_statistic"
   ]
  },
  {
   "cell_type": "markdown",
   "id": "e08ff577",
   "metadata": {},
   "source": [
    "## Let's see what the distribution of statistics is actually like under the county's juror model\n",
    "Define the function simulation_and_statistic to take in the jury_prop array and the expected\n",
    "proportion of a Black juror should be selected under the county's model.  (Yes, it's the first element of your array.) The function should simulaterunning through the jury selection 100 times and return the statistic of this one simulation.\n",
    "\n",
    "**Hint** This should follow the same pattern as the code that you just did -- now you're making it into one function"
   ]
  },
  {
   "cell_type": "code",
   "execution_count": null,
   "id": "f7aacec0",
   "metadata": {},
   "outputs": [],
   "source": [
    "def simulation_and_statistic(jury_prop, expected_proportion_selected):\n",
    "    '''Simulates 100 jurors selected under the county's model.  Returns one statistic from the simulation'''\n",
    "\n",
    "    \n",
    "    \n",
    "    return simulated_stat"
   ]
  },
  {
   "cell_type": "markdown",
   "id": "6e7084d3",
   "metadata": {},
   "source": [
    "### Using this function, simulate this jury selection process 1000 times and assign the simulated statistics to an array `simulated_statistics` that you calculated under the assumption that the county's eligible juror model was true"
   ]
  },
  {
   "cell_type": "code",
   "execution_count": null,
   "id": "137e2383",
   "metadata": {},
   "outputs": [],
   "source": [
    "num_repetitions = 1000\n",
    "\n",
    "simulated_statistics = make_array()\n",
    "\n",
    "for ...:\n",
    "\n",
    "                                        "
   ]
  },
  {
   "cell_type": "markdown",
   "id": "bbe56d44",
   "metadata": {},
   "source": [
    "### Let's view the distribution of the simulated statistics under county's eligible juror model, and visually compare where the observed statistic lies relative to the simulated statistics."
   ]
  },
  {
   "cell_type": "code",
   "execution_count": null,
   "id": "17670632",
   "metadata": {},
   "outputs": [],
   "source": [
    "t = Table().with_column('Simulated Statistics', simulated_statistics)\n",
    "t.hist()\n",
    "plt.scatter(observed_statistic, 0, color='red', s=100, zorder=2);"
   ]
  },
  {
   "cell_type": "markdown",
   "id": "13d371ac",
   "metadata": {},
   "source": [
    "### The red dot is the test statistic -- does it appear to be a likely value?  Explain.  \n",
    "\n",
    "Visually, make an argument whether or not the jury selection was biased in this case."
   ]
  },
  {
   "cell_type": "markdown",
   "id": "b945dcdb",
   "metadata": {},
   "source": []
  },
  {
   "cell_type": "markdown",
   "id": "188f1a35",
   "metadata": {},
   "source": [
    "### We can formalize our analysis by find out what proportion of simulated statistics were as extreme or more extreme than our observed test statistic (the area at or to the right of the observed test statistic).  If this area is small enough, we'll declare that the data are inconsistent with our simulated model.  This is the p-value\n",
    "\n",
    "Hint: You can use no.count_nonzero here..."
   ]
  },
  {
   "cell_type": "code",
   "execution_count": null,
   "id": "f564a2e8",
   "metadata": {},
   "outputs": [],
   "source": [
    "proportion_greater_or_equal = np.count_nonzero(simulated_statistics > observed_statistic)/len(simulated_statistics)\n",
    "proportion_greater_or_equal"
   ]
  },
  {
   "cell_type": "code",
   "execution_count": null,
   "id": "56cd1838",
   "metadata": {},
   "outputs": [],
   "source": []
  }
 ],
 "metadata": {
  "celltoolbar": "Tags",
  "kernelspec": {
   "display_name": "Python 3 (ipykernel)",
   "language": "python",
   "name": "python3"
  },
  "language_info": {
   "codemirror_mode": {
    "name": "ipython",
    "version": 3
   },
   "file_extension": ".py",
   "mimetype": "text/x-python",
   "name": "python",
   "nbconvert_exporter": "python",
   "pygments_lexer": "ipython3",
   "version": "3.10.11"
  }
 },
 "nbformat": 4,
 "nbformat_minor": 5
}
